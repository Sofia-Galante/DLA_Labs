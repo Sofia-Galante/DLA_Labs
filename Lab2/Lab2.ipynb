{
 "cells": [
  {
   "cell_type": "markdown",
   "id": "0f5d0b9d-7980-4d2c-8154-c07a5f8b5525",
   "metadata": {
    "tags": []
   },
   "source": [
    "# <font color='red'>Introduction\n",
    "<font color='red'>In this laboratory we will get our hands dirty working with Large Language Models (e.g. GPT and BERT) to do various useful things. I you haven't already, it is highly recommended to:\n",
    "\n",
    "+ <font color='red'>Read the [Attention is All you Need](https://arxiv.org/abs/1706.03762) paper, which is the basis for all transformer-based LLMs.\n",
    "+ <font color='red'>Watch (and potentially *code along*) with this [Andrej Karpathy video](https://www.youtube.com/watch?v=kCc8FmEb1nY) which shows you how to build an autoregressive GPT model from the ground up.\n",
    "\n",
    "# <font color='red'>Exercise 1: Warming Up\n",
    "<font color='red'>In this first exercise you will train a *small* autoregressive GPT model for character generation (the one used by Karpathy in his video) to generate text in the style of Dante Aligheri. Use [this file](https://archive.org/stream/ladivinacommedia00997gut/1ddcd09.txt), which contains the entire text of Dante's Inferno (**note**: you will have to delete some introductory text at the top of the file before training). Train the model for a few epochs, monitor the loss, and generate some text at the end of training. Qualitatively evaluate the results "
   ]
  },
  {
   "cell_type": "markdown",
   "id": "5c0ef17c",
   "metadata": {},
   "source": [
    "Il codice sotto riportato è stato ripreso dal [github di Karpathy](https://github.com/karpathy/ng-video-lecture) e riadattato all'interno del notebook. Il testo di Dante Alighieri è nel file *Dante.txt*."
   ]
  },
  {
   "cell_type": "code",
   "execution_count": 29,
   "id": "35568dbe-c37d-4d4a-834e-fb6d401c3c59",
   "metadata": {},
   "outputs": [],
   "source": [
    "# Import\n",
    "\n",
    "import torch\n",
    "import torch.nn as nn\n",
    "from torch.nn import functional as F\n",
    "\n",
    "# Device\n",
    "device = 'cuda' if torch.cuda.is_available() else 'cpu'"
   ]
  },
  {
   "cell_type": "markdown",
   "id": "793aa894-0a71-42e3-a418-726f9f8229e0",
   "metadata": {},
   "source": [
    "### Model\n",
    "\n",
    "Il modello qui sotto riportato è quello mostrato da Karpathy nel suo video. Non ci sono differenze."
   ]
  },
  {
   "cell_type": "code",
   "execution_count": 2,
   "id": "5737b2d5",
   "metadata": {
    "tags": []
   },
   "outputs": [],
   "source": [
    "class Head(nn.Module):\n",
    "    \"\"\" one head of self-attention \"\"\"\n",
    "\n",
    "    def __init__(self, head_size):\n",
    "        super().__init__()\n",
    "        self.key = nn.Linear(n_embd, head_size, bias=False)\n",
    "        self.query = nn.Linear(n_embd, head_size, bias=False)\n",
    "        self.value = nn.Linear(n_embd, head_size, bias=False)\n",
    "        self.register_buffer('tril', torch.tril(torch.ones(block_size, block_size)))\n",
    "\n",
    "        self.dropout = nn.Dropout(dropout)\n",
    "\n",
    "    def forward(self, x):\n",
    "        # input of size (batch, time-step, channels)\n",
    "        # output of size (batch, time-step, head size)\n",
    "        B,T,C = x.shape\n",
    "        k = self.key(x)   # (B,T,hs)\n",
    "        q = self.query(x) # (B,T,hs)\n",
    "        # compute attention scores (\"affinities\")\n",
    "        wei = q @ k.transpose(-2,-1) * k.shape[-1]**-0.5 # (B, T, hs) @ (B, hs, T) -> (B, T, T)\n",
    "        wei = wei.masked_fill(self.tril[:T, :T] == 0, float('-inf')) # (B, T, T)\n",
    "        wei = F.softmax(wei, dim=-1) # (B, T, T)\n",
    "        wei = self.dropout(wei)\n",
    "        # perform the weighted aggregation of the values\n",
    "        v = self.value(x) # (B,T,hs)\n",
    "        out = wei @ v # (B, T, T) @ (B, T, hs) -> (B, T, hs)\n",
    "        return out\n",
    "\n",
    "class MultiHeadAttention(nn.Module):\n",
    "    \"\"\" multiple heads of self-attention in parallel \"\"\"\n",
    "\n",
    "    def __init__(self, num_heads, head_size):\n",
    "        super().__init__()\n",
    "        self.heads = nn.ModuleList([Head(head_size) for _ in range(num_heads)])\n",
    "        self.proj = nn.Linear(head_size * num_heads, n_embd)\n",
    "        self.dropout = nn.Dropout(dropout)\n",
    "\n",
    "    def forward(self, x):\n",
    "        out = torch.cat([h(x) for h in self.heads], dim=-1)\n",
    "        out = self.dropout(self.proj(out))\n",
    "        return out\n",
    "\n",
    "class FeedFoward(nn.Module):\n",
    "    \"\"\" a simple linear layer followed by a non-linearity \"\"\"\n",
    "\n",
    "    def __init__(self, n_embd):\n",
    "        super().__init__()\n",
    "        self.net = nn.Sequential(\n",
    "            nn.Linear(n_embd, 4 * n_embd),\n",
    "            nn.ReLU(),\n",
    "            nn.Linear(4 * n_embd, n_embd),\n",
    "            nn.Dropout(dropout),\n",
    "        )\n",
    "\n",
    "    def forward(self, x):\n",
    "        return self.net(x)\n",
    "\n",
    "class Block(nn.Module):\n",
    "    \"\"\" Transformer block: communication followed by computation \"\"\"\n",
    "\n",
    "    def __init__(self, n_embd, n_head):\n",
    "        # n_embd: embedding dimension, n_head: the number of heads we'd like\n",
    "        super().__init__()\n",
    "        head_size = n_embd // n_head\n",
    "        self.sa = MultiHeadAttention(n_head, head_size)\n",
    "        self.ffwd = FeedFoward(n_embd)\n",
    "        self.ln1 = nn.LayerNorm(n_embd)\n",
    "        self.ln2 = nn.LayerNorm(n_embd)\n",
    "\n",
    "    def forward(self, x):\n",
    "        x = x + self.sa(self.ln1(x))\n",
    "        x = x + self.ffwd(self.ln2(x))\n",
    "        return x\n",
    "\n",
    "class GPTLanguageModel(nn.Module):\n",
    "\n",
    "    def __init__(self):\n",
    "        super().__init__()\n",
    "        # each token directly reads off the logits for the next token from a lookup table\n",
    "        self.token_embedding_table = nn.Embedding(vocab_size, n_embd)\n",
    "        self.position_embedding_table = nn.Embedding(block_size, n_embd)\n",
    "        self.blocks = nn.Sequential(*[Block(n_embd, n_head=n_head) for _ in range(n_layer)])\n",
    "        self.ln_f = nn.LayerNorm(n_embd) # final layer norm\n",
    "        self.lm_head = nn.Linear(n_embd, vocab_size)\n",
    "\n",
    "        # better init, not covered in the original GPT video, but important, will cover in followup video\n",
    "        self.apply(self._init_weights)\n",
    "\n",
    "    def _init_weights(self, module):\n",
    "        if isinstance(module, nn.Linear):\n",
    "            torch.nn.init.normal_(module.weight, mean=0.0, std=0.02)\n",
    "            if module.bias is not None:\n",
    "                torch.nn.init.zeros_(module.bias)\n",
    "        elif isinstance(module, nn.Embedding):\n",
    "            torch.nn.init.normal_(module.weight, mean=0.0, std=0.02)\n",
    "\n",
    "    def forward(self, idx, targets=None):\n",
    "        B, T = idx.shape\n",
    "\n",
    "        # idx and targets are both (B,T) tensor of integers\n",
    "        tok_emb = self.token_embedding_table(idx) # (B,T,C)\n",
    "        pos_emb = self.position_embedding_table(torch.arange(T, device=device)) # (T,C)\n",
    "        x = tok_emb + pos_emb # (B,T,C)\n",
    "        x = self.blocks(x) # (B,T,C)\n",
    "        x = self.ln_f(x) # (B,T,C)\n",
    "        logits = self.lm_head(x) # (B,T,vocab_size)\n",
    "\n",
    "        if targets is None:\n",
    "            loss = None\n",
    "        else:\n",
    "            B, T, C = logits.shape\n",
    "            logits = logits.view(B*T, C)\n",
    "            targets = targets.view(B*T)\n",
    "            loss = F.cross_entropy(logits, targets)\n",
    "\n",
    "        return logits, loss\n",
    "\n",
    "    def generate(self, idx, max_new_tokens):\n",
    "        # idx is (B, T) array of indices in the current context\n",
    "        for _ in range(max_new_tokens):\n",
    "            # crop idx to the last block_size tokens\n",
    "            idx_cond = idx[:, -block_size:]\n",
    "            # get the predictions\n",
    "            logits, loss = self(idx_cond)\n",
    "            # focus only on the last time step\n",
    "            logits = logits[:, -1, :] # becomes (B, C)\n",
    "            # apply softmax to get probabilities\n",
    "            probs = F.softmax(logits, dim=-1) # (B, C)\n",
    "            # sample from the distribution\n",
    "            idx_next = torch.multinomial(probs, num_samples=1) # (B, 1)\n",
    "            # append sampled index to the running sequence\n",
    "            idx = torch.cat((idx, idx_next), dim=1) # (B, T+1)\n",
    "        return idx"
   ]
  },
  {
   "cell_type": "markdown",
   "id": "91d1d5f3-eb77-4bee-8b66-5420c278ee1b",
   "metadata": {},
   "source": [
    "### Experiment\n",
    "\n",
    "Si noti che questa parte del notebook è stata svolta sempre seguendo il video di Karpathy e che quindi ci saranno molte somiglianze con esso."
   ]
  },
  {
   "cell_type": "code",
   "execution_count": 3,
   "id": "86aa9248",
   "metadata": {},
   "outputs": [
    {
     "data": {
      "text/plain": [
       "<torch._C.Generator at 0x1fe4e75d650>"
      ]
     },
     "execution_count": 3,
     "metadata": {},
     "output_type": "execute_result"
    }
   ],
   "source": [
    "# Iperparametri (sono gli stessi scelti da Karpathy)\n",
    "batch_size = 64\n",
    "block_size = 256\n",
    "max_iters = 3000\n",
    "eval_interval = 300\n",
    "learning_rate = 3e-4\n",
    "eval_iters = 200\n",
    "n_embd = 384\n",
    "n_head = 6\n",
    "n_layer = 6\n",
    "dropout = 0.2\n",
    "\n",
    "torch.manual_seed(1337)"
   ]
  },
  {
   "cell_type": "code",
   "execution_count": 4,
   "id": "8ebf7095-1f6a-4a10-a3ba-1569a074fa0f",
   "metadata": {},
   "outputs": [],
   "source": [
    "def encode(string):\n",
    "    return [char_to_int[ch] for ch in string]\n",
    "\n",
    "def decode(integers):\n",
    "    return[int_to_char[i] for i in integers]"
   ]
  },
  {
   "cell_type": "code",
   "execution_count": 5,
   "id": "50420b84-ab35-43c7-a486-408e7cf34058",
   "metadata": {},
   "outputs": [],
   "source": [
    "# Apriamo il file\n",
    "with open('Dante.txt', 'r', encoding='utf-8') as f:\n",
    "    text = f.read()\n",
    "\n",
    "# Prendiamo i caratteri unici nel testo\n",
    "chars = sorted(list(set(text)))\n",
    "vocab_size = len(chars)\n",
    "\n",
    "# Associamo a ogni carattere un numero (e viceversa)\n",
    "char_to_int = { ch:i for i,ch in enumerate(chars) }\n",
    "int_to_char = { i:ch for i,ch in enumerate(chars) }"
   ]
  },
  {
   "cell_type": "code",
   "execution_count": 6,
   "id": "f0ab63c3",
   "metadata": {},
   "outputs": [],
   "source": [
    "# Train and test splits\n",
    "data = torch.tensor(encode(text), dtype=torch.long)\n",
    "n = int(0.9*len(data)) # first 90% will be train, rest val\n",
    "train_data = data[:n]\n",
    "val_data = data[n:]\n",
    "\n",
    "# data loading\n",
    "def get_batch(split):\n",
    "    # generate a small batch of data of inputs x and targets y\n",
    "    data = train_data if split == 'train' else val_data\n",
    "    ix = torch.randint(len(data) - block_size, (batch_size,))\n",
    "    x = torch.stack([data[i:i+block_size] for i in ix])\n",
    "    y = torch.stack([data[i+1:i+block_size+1] for i in ix])\n",
    "    x, y = x.to(device), y.to(device)\n",
    "    return x, y\n",
    "\n",
    "@torch.no_grad()\n",
    "def estimate_loss():\n",
    "    out = {}\n",
    "    model.eval()\n",
    "    for split in ['train', 'val']:\n",
    "        losses = torch.zeros(eval_iters)\n",
    "        for k in range(eval_iters):\n",
    "            X, Y = get_batch(split)\n",
    "            logits, loss = model(X, Y)\n",
    "            losses[k] = loss.item()\n",
    "        out[split] = losses.mean()\n",
    "    model.train()\n",
    "    return out"
   ]
  },
  {
   "cell_type": "markdown",
   "id": "3e3c1a8e-123a-40ad-81de-6cb396b28545",
   "metadata": {
    "tags": []
   },
   "source": [
    "### Training and Experiments\n",
    "\n",
    "La funzione di training riportata di seguito è ispirata al ciclo di training di Karpathy, ma ho apportato alcune modifiche per poter monitorare meglio la loss e salvare i modelli a ogni valutazione."
   ]
  },
  {
   "cell_type": "code",
   "execution_count": 7,
   "id": "279e2dc6-e4a3-4c3e-a299-fd52c1d5bcca",
   "metadata": {},
   "outputs": [],
   "source": [
    "def train_dante(model):\n",
    "    optimizer = torch.optim.AdamW(model.parameters(), lr=learning_rate)\n",
    "    train_losses = list()\n",
    "    val_losses = list()\n",
    "    for i in range(max_iters):\n",
    "        # sample a batch of data\n",
    "        xb, yb = get_batch('train')\n",
    "\n",
    "        # evaluate the loss\n",
    "        logits, loss = model(xb, yb)\n",
    "        optimizer.zero_grad(set_to_none=True)\n",
    "        loss.backward()\n",
    "        optimizer.step()\n",
    "        \n",
    "        # every once in a while evaluate the loss on train and val sets\n",
    "        if (i+1) % eval_interval == 0 or (i+1) == max_iters:\n",
    "            losses = estimate_loss()\n",
    "            torch.save(model, f'dante-{i+1}.pth')\n",
    "            train_losses.append(losses['train'])\n",
    "            val_losses.append(losses['val'])\n",
    "            print(f\"step {i+1}: train loss {losses['train']:.4f}, val loss {losses['val']:.4f}\")\n",
    "    return train_losses, val_losses"
   ]
  },
  {
   "cell_type": "code",
   "execution_count": 8,
   "id": "ca5b52f0",
   "metadata": {},
   "outputs": [
    {
     "name": "stdout",
     "output_type": "stream",
     "text": [
      "step 300: train loss 2.1541, val loss 2.1841\n",
      "step 600: train loss 1.6408, val loss 1.7047\n",
      "step 900: train loss 1.3372, val loss 1.5493\n",
      "step 1200: train loss 1.0479, val loss 1.5421\n",
      "step 1500: train loss 0.7245, val loss 1.7091\n",
      "step 1800: train loss 0.4121, val loss 1.9432\n",
      "step 2100: train loss 0.2225, val loss 2.2876\n",
      "step 2400: train loss 0.1467, val loss 2.5798\n",
      "step 2700: train loss 0.1140, val loss 2.8148\n",
      "step 3000: train loss 0.1010, val loss 2.9315\n"
     ]
    }
   ],
   "source": [
    "model = GPTLanguageModel().to(device)\n",
    "train_losses, val_losses = train_dante(model)"
   ]
  },
  {
   "cell_type": "markdown",
   "id": "cc8a711a-b2cc-4706-a413-9df63f1a40ef",
   "metadata": {},
   "source": [
    "Ecco il grafico del training:"
   ]
  },
  {
   "cell_type": "code",
   "execution_count": 16,
   "id": "02e027b0-6b6c-4e5c-b8e9-5a3f3b538494",
   "metadata": {},
   "outputs": [],
   "source": [
    "import matplotlib.pyplot as plt\n",
    "import numpy as np\n",
    "\n",
    "#Funzione per il plot del grafico\n",
    "def plot(x, datas, labels, x_label, y_label, title):\n",
    "    for i in range(len(datas)):\n",
    "        plt.plot(x, datas[i], label = labels[i])\n",
    "    plt.legend()\n",
    "    plt.xlabel(x_label)\n",
    "    plt.ylabel(y_label)\n",
    "    plt.title(title)"
   ]
  },
  {
   "cell_type": "code",
   "execution_count": 25,
   "id": "a4791330-79b3-43b0-abbf-6e30c6f04d92",
   "metadata": {},
   "outputs": [
    {
     "name": "stdout",
     "output_type": "stream",
     "text": [
      "step 300: train loss 2.1541, val loss 2.1841\n",
      "step 600: train loss 1.6408, val loss 1.7047\n",
      "step 900: train loss 1.3372, val loss 1.5493\n",
      "step 1200: train loss 1.0479, val loss 1.5421\n",
      "step 1500: train loss 0.7245, val loss 1.7091\n",
      "step 1800: train loss 0.4121, val loss 1.9432\n",
      "step 2100: train loss 0.2225, val loss 2.2876\n",
      "step 2400: train loss 0.1467, val loss 2.5798\n",
      "step 2700: train loss 0.1140, val loss 2.8148\n",
      "step 3000: train loss 0.1010, val loss 2.9315\n"
     ]
    },
    {
     "data": {
      "image/png": "[encoded data removed]",
      "text/plain": [
       "<Figure size 640x480 with 1 Axes>"
      ]
     },
     "metadata": {},
     "output_type": "display_data"
    }
   ],
   "source": [
    "#Plot\n",
    "\n",
    "x = (np.arange(len(train_losses))+1)*eval_interval\n",
    "\n",
    "plot(\n",
    "    x,\n",
    "    (train_losses, val_losses),\n",
    "    ('Train', 'Validation'),\n",
    "    'Step',\n",
    "    'Loss',\n",
    "    'Training on Dante\\'s text'\n",
    ")\n",
    "\n",
    "for i in range(len(x)):\n",
    "    print(f\"step {x[i]}: train loss {train_losses[i]:.4f}, val loss {val_losses[i]:.4f}\")"
   ]
  },
  {
   "cell_type": "markdown",
   "id": "6f81e518-0b83-49ca-84b7-bb91452e8e4d",
   "metadata": {},
   "source": [
    "Osservando il plot della loss e il log del training, si nota che il modello va in overfitting dopo 1200 iterazioni.\n",
    "Di seguito si caricano il modello migliore (1200 iterazioni) e il modello più overfittato (3000 iterazioni) per fare un confronto diretto sulla generazione del testo."
   ]
  },
  {
   "cell_type": "code",
   "execution_count": 18,
   "id": "2755df83-b32d-462f-8d1b-a2324598d927",
   "metadata": {},
   "outputs": [],
   "source": [
    "context = torch.zeros((1, 1), dtype=torch.long, device=device)"
   ]
  },
  {
   "cell_type": "code",
   "execution_count": 19,
   "id": "44df5a20-eae1-4761-834f-474190ea9454",
   "metadata": {},
   "outputs": [
    {
     "name": "stdout",
     "output_type": "stream",
     "text": [
      "\n",
      "  quando Francescando spia non di lor vastro>>.\n",
      "\n",
      "Poi cominciasce dorte dal monde manto,\n",
      "  <<S'ei or de` la vita tutta morta!\n",
      "  Verolte tenese ch'un poco unzo\n",
      "  la test'a dir priva 'l sabbion d'inferse,\n",
      "\n",
      "dal cinque che disperanza non e` daggire,\n",
      "  li Falchi suo che l'abbianco non s'anni.\n",
      "\n",
      "Gia` eravam la lunga conda gentero\n",
      "  che si` crucciato suo l'acqua comero\n",
      "  che 'l faera a le prime piu` percosso cse.\n",
      "\n",
      "Elle rilor de la tua proda ad Atte;\n",
      "  per che, se sono ricorto` quell'anima,\n",
      "  tu non piego\n"
     ]
    }
   ],
   "source": [
    "model_3000 = torch.load('dante-3000.pth')\n",
    "print(''.join(decode(model.generate(context, max_new_tokens=500)[0].tolist())))"
   ]
  },
  {
   "cell_type": "code",
   "execution_count": 20,
   "id": "c72e0ba9-b3a4-41d8-904f-62bec6d7e43d",
   "metadata": {},
   "outputs": [
    {
     "name": "stdout",
     "output_type": "stream",
     "text": [
      "\n",
      "ae di Polor danno, e l'altro e lor vaso;\n",
      "  cadde giuso in su la ripa debia,\n",
      "  e disse a Nesso: <<Or sier Bruno\n",
      "\n",
      "lo tuo nome tornasse e rinasciati,\n",
      "  a Minos a cor sie vissi  potea lascia,\n",
      "  anda veder lo sentiro piu` piano,\n",
      "\n",
      "quando incontanento a la li altri appassi,\n",
      "  che 'ntrammo l'un rombe e l'armane;\n",
      "  per che 'l fosso si riparea la faccia,\n",
      "\n",
      "non che di pina, sua si saetta persa,\n",
      "  mo tutto le folto infino e la chiasche,\n",
      "  poi ser tra 'mpie in torna si` fresta,\n",
      "  ch'alcun remar di terra a pro\n"
     ]
    }
   ],
   "source": [
    "model_1200 = torch.load('dante-1200.pth')\n",
    "print(''.join(decode(model.generate(context, max_new_tokens=500)[0].tolist())))"
   ]
  },
  {
   "cell_type": "markdown",
   "id": "e0a04116-4543-4510-bf2e-1c5562d7965f",
   "metadata": {},
   "source": [
    "### Summary\n",
    "\n",
    "Osservando i due testi si nota come nessuno dei due sia in grado di riprodurre un testo con un vero e proprio significato. Evidentemente un modello generativo che predice in base ai caratteri non è abbastanza potente per un task simile."
   ]
  },
  {
   "cell_type": "markdown",
   "id": "68441a09-dfaf-424a-b640-4fc8cea289b5",
   "metadata": {},
   "source": [
    "# <font color='red'>Exercise 2: Working with Real LLMs\n",
    "\n",
    "<font color='red'>Our toy GPT can only take us so far. In this exercise we will see how to use the [Hugging Face](https://huggingface.co/) model and dataset ecosystem to access a *huge* variety of pre-trained transformer models.\n",
    "\n",
    "## <font color='red'>Exercise 2.1: Installation and text tokenization\n",
    "\n",
    "<font color='red'>First things first, we need to install the [Hugging Face transformer library](https://huggingface.co/docs/transformers/index):\n",
    "\n",
    "    conda install -c huggingface -c conda-forge transformers\n",
    "    \n",
    "<font color='red'>The key classes that you will work with are `GPT2Tokenizer` to encode text into sub-word tokens, and the `GPT2LMHeadModel`. **Note** the `LMHead` part of the class name -- this is the version of the GPT2 architecture that has the text prediction heads attached to the final hidden layer representations (i.e. what we need to **generate** text). \n",
    "\n",
    "<font color='red'>Instantiate the `GPT2Tokenizer` and experiment with encoding text into integer tokens. Compare the length of input with the encoded sequence length.\n",
    "\n",
    "<font color='red'>**Tip**: Pass the `return_tensors='pt'` argument to the togenizer to get Pytorch tensors as output (instead of lists)."
   ]
  },
  {
   "cell_type": "code",
   "execution_count": 36,
   "id": "af199a6d-1f3a-4b2c-a23f-d697b93c5adb",
   "metadata": {
    "tags": []
   },
   "outputs": [],
   "source": [
    "from transformers import GPT2Tokenizer\n",
    "\n",
    "tokenizer = GPT2Tokenizer.from_pretrained('gpt2')"
   ]
  },
  {
   "cell_type": "code",
   "execution_count": 37,
   "id": "5ba571e9-7a02-4ca9-84d5-615b0eb617e1",
   "metadata": {},
   "outputs": [
    {
     "name": "stdout",
     "output_type": "stream",
     "text": [
      "tensor([[2437,  389,  345,   30]])\n",
      "tensor([[3237,  318,  880,   11, 5875,  345,    0]])\n",
      "tensor([[15496,   995,    13]])\n"
     ]
    }
   ],
   "source": [
    "print(tokenizer(\"How are you?\", return_tensors='pt')['input_ids'])\n",
    "print(tokenizer(\"All is well, thank you!\", return_tensors='pt')['input_ids'])\n",
    "print(tokenizer(\"Hello world.\", return_tensors='pt')['input_ids'])"
   ]
  },
  {
   "cell_type": "markdown",
   "id": "3b486dbc",
   "metadata": {},
   "source": [
    "Come si può notare, il modello sopra riportato crea un token diverso per ogni parola e simbolo di punteggiatura all'interno della frase. I token cambiano a seconda dell'utilizzo di lettere maiuscole o minuscole:"
   ]
  },
  {
   "cell_type": "code",
   "execution_count": 38,
   "id": "f79d9236-d1f5-4d16-81bb-4ca15139685c",
   "metadata": {},
   "outputs": [
    {
     "name": "stdout",
     "output_type": "stream",
     "text": [
      "tensor([[15496,   995]])\n",
      "tensor([[15496,  2159]])\n"
     ]
    }
   ],
   "source": [
    "print(tokenizer(\"Hello world\", return_tensors='pt')['input_ids'])\n",
    "print(tokenizer(\"Hello World\", return_tensors='pt')['input_ids'])"
   ]
  },
  {
   "cell_type": "markdown",
   "id": "157a859a-4ef5-4b05-a6ce-258865ccc7e6",
   "metadata": {},
   "source": [
    " I segni di punteggiatura sono dei token a parte, infatti se si prende la stessa frase con e senza punteggiatura, si nota che vengono gli stessi token a parte per i segni di punteggiatura:"
   ]
  },
  {
   "cell_type": "code",
   "execution_count": 39,
   "id": "18c4d00e-70e0-485f-8b05-5bc05733df04",
   "metadata": {},
   "outputs": [
    {
     "name": "stdout",
     "output_type": "stream",
     "text": [
      "tensor([[15496,   995]])\n",
      "tensor([[15496,   995,     0]])\n",
      "tensor([[15496,   995,    13]])\n",
      "tensor([[15496,   995,    30]])\n",
      "tensor([[15496,     0,   995,     0]])\n"
     ]
    }
   ],
   "source": [
    "print(tokenizer(\"Hello world\", return_tensors='pt')['input_ids'])\n",
    "print(tokenizer(\"Hello world!\", return_tensors='pt')['input_ids'])\n",
    "print(tokenizer(\"Hello world.\", return_tensors='pt')['input_ids'])\n",
    "print(tokenizer(\"Hello world?\", return_tensors='pt')['input_ids'])\n",
    "print(tokenizer(\"Hello! world!\", return_tensors='pt')['input_ids'])"
   ]
  },
  {
   "cell_type": "markdown",
   "id": "e275d666-a5fd-485d-9391-fb8bb7f8b954",
   "metadata": {},
   "source": [
    "Inoltre se si combinano segni di punteggiatura diversi, si otterrà un token diverso:"
   ]
  },
  {
   "cell_type": "code",
   "execution_count": 40,
   "id": "b31675ff-bd48-4e08-8e1b-5ee55e68c160",
   "metadata": {},
   "outputs": [
    {
     "name": "stdout",
     "output_type": "stream",
     "text": [
      "tensor([[15496,   995,     0]])\n",
      "tensor([[15496,   995,    30]])\n",
      "tensor([[15496,   995, 12248]])\n",
      "tensor([[15496,   995, 22857]])\n"
     ]
    }
   ],
   "source": [
    "print(tokenizer(\"Hello world!\", return_tensors='pt')['input_ids'])\n",
    "print(tokenizer(\"Hello world?\", return_tensors='pt')['input_ids'])\n",
    "print(tokenizer(\"Hello world?!\", return_tensors='pt')['input_ids'])\n",
    "print(tokenizer(\"Hello world!?\", return_tensors='pt')['input_ids'])"
   ]
  },
  {
   "cell_type": "markdown",
   "id": "e754076d-ae8e-4602-bb27-8d29f973c046",
   "metadata": {},
   "source": [
    "Infine, il tokenizer è settato sulla lingua inglese. Infatti, se si prova a scrivere una frase in un'altra lingua il numero di token non corrisponde al numero di parole:"
   ]
  },
  {
   "cell_type": "code",
   "execution_count": 41,
   "id": "3afe7bfd-74b8-43bd-b485-f7b9d44bac1b",
   "metadata": {},
   "outputs": [
    {
     "name": "stdout",
     "output_type": "stream",
     "text": [
      "tensor([[   34, 13481,    11,  1282,   336,  1872,    30]])\n"
     ]
    }
   ],
   "source": [
    "print(tokenizer(\"Ciao, come stai?\", return_tensors='pt')['input_ids'])"
   ]
  },
  {
   "cell_type": "markdown",
   "id": "a458b725-63c1-49ae-8011-71a9196387b8",
   "metadata": {},
   "source": [
    "## <font color='red'>Exercise 2.2: Generating Text\n",
    "\n",
    "<font color='red'>There are a lot of ways we can, given a *prompt* in input, sample text from a GPT2 model. Instantiate a pre-trained `GPT2LMHeadModel` and use the [`generate()`](https://huggingface.co/docs/transformers/v4.27.2/en/main_classes/text_generation#transformers.GenerationMixin.generate) method to generate text from a prompt.\n",
    "\n",
    "<font color='red'>**Note**: The default inference mode for GPT2 is *greedy* which might not results in satisfying generated text. Look at the `do_sample` and `temperature` parameters."
   ]
  },
  {
   "cell_type": "code",
   "execution_count": 51,
   "id": "a637c368",
   "metadata": {
    "tags": []
   },
   "outputs": [
    {
     "data": {
      "text/plain": [
       "[\"Hello, how are you?\\n\\nI'm a little bit of a nerd. I'm a big nerd. I'm a big nerd. I'm a big nerd. I'm a big nerd\"]"
      ]
     },
     "execution_count": 51,
     "metadata": {},
     "output_type": "execute_result"
    }
   ],
   "source": [
    "import torch\n",
    "from transformers import GPT2Tokenizer, GPT2LMHeadModel, GenerationConfig\n",
    "\n",
    "tokenizer = GPT2Tokenizer.from_pretrained(\"gpt2\")\n",
    "model = GPT2LMHeadModel.from_pretrained(\"gpt2\")\n",
    "configuration = GenerationConfig(max_length=40, pad_token_id=4300)\n",
    "\n",
    "inputs = tokenizer(\"Hello, how are you?\", return_tensors=\"pt\")\n",
    "outputs = model.generate(**inputs, generation_config=configuration)\n",
    "tokenizer.batch_decode(outputs)"
   ]
  },
  {
   "cell_type": "markdown",
   "id": "2654fd9d-0731-496e-b6e9-b6d198a77899",
   "metadata": {},
   "source": [
    "In questo primo esperimento, si vede come la frase generata dal modello non abbia effettivamente senso compiuto.\n",
    "\n",
    "Proviamo ora a giocare con i parametri:\n",
    "- do_sample -> per passare da un decoding di tipo greedy a utilizzare effettivamente un sampling;\n",
    "- temperature -> parametro usato per manipolare la probabilità del token successivo."
   ]
  },
  {
   "cell_type": "code",
   "execution_count": 58,
   "id": "d873a407",
   "metadata": {
    "collapsed": false,
    "jupyter": {
     "outputs_hidden": false
    }
   },
   "outputs": [
    {
     "data": {
      "text/plain": [
       "['Hello, how are you? I\\'m just sitting here and typing this.\\n\\n\"Hello, how are you?\"\\n\\n\"You\\'re fine. I\\'m doing okay.\"\\n\\n\"Yeah']"
      ]
     },
     "execution_count": 58,
     "metadata": {},
     "output_type": "execute_result"
    }
   ],
   "source": [
    "configuration2 = GenerationConfig(max_length=40, pad_token_id=4300, do_sample = True, temperature = 0.5)\n",
    "outputs2 = model.generate(**inputs, generation_config=configuration2)\n",
    "tokenizer.batch_decode(outputs2)"
   ]
  },
  {
   "cell_type": "code",
   "execution_count": 59,
   "id": "2174c725-01ff-4e2d-ad00-62e1817412d1",
   "metadata": {},
   "outputs": [
    {
     "data": {
      "text/plain": [
       "[\"Hello, how are you?\\n\\nI'm very happy.\\n\\nI'm very happy.\\n\\nI'm very happy.\\n\\nI'm very happy.\\n\\nI'm very happy\"]"
      ]
     },
     "execution_count": 59,
     "metadata": {},
     "output_type": "execute_result"
    }
   ],
   "source": [
    "configuration3 = GenerationConfig(max_length=40, pad_token_id=4300, do_sample = True, temperature = 0.3)\n",
    "outputs3 = model.generate(**inputs, generation_config=configuration3)\n",
    "tokenizer.batch_decode(outputs3)"
   ]
  },
  {
   "cell_type": "markdown",
   "id": "fb00918c-7c99-4443-a453-5b21e1b83d7c",
   "metadata": {},
   "source": [
    "In tutti i casi, si vede come il modello non crei effettivamente una frase di senso compiuto e nei casi in cui prevale il decoding di tipo greedy ripeta le stesse parole all'infinito."
   ]
  },
  {
   "cell_type": "markdown",
   "id": "88229550",
   "metadata": {
    "tags": []
   },
   "source": [
    "# <font color='red'>Exercise 3: Reusing Pre-trained LLMs (choose one)\n",
    "\n",
    "<font color='red'>Choose **one** of the following exercises (well, *at least* one). In each of these you are asked to adapt a pre-trained LLM (`GPT2Model` or `DistillBERT` are two good choices) to a new Natural Language Understanding task. A few comments:\n",
    "\n",
    "+ <font color='red'>Since GPT2 is a *autoregressive* model, there is no latent space aggregation at the last transformer layer (you get the same number of tokens out that you give in input). To use a pre-trained model for a classification or retrieval task, you should aggregate these tokens somehow (or opportunistically select *one* to use).\n",
    "\n",
    "+ <font color='red'>BERT models (including DistillBERT) have a special [CLS] token prepended to each latent representation in output from a self-attention block. You can directly use this as a representation for classification (or retrieval).\n",
    "\n",
    "+ <font color='red'><font color='red'>The first *two* exercises below can probably be done *without* any fine-tuning -- that is, just training a shallow MLP to classify or represent with the appropriate loss function.\n",
    "\n",
    "\n",
    "# <font color='red'>Exercise 3.2: Training a Question Answering Model (harder)\n",
    "\n",
    "<font color='red'>Peruse the [multiple choice question answering datasets on Hugging Face](https://huggingface.co/datasets?task_categories=task_categories:multiple-choice&sort=downloads). Chose a *moderately* sized one and train a model to answer contextualized multiple-choice questions. You *might* be able to avoid fine-tuning by training a simple model to *rank* the multiple choices (see margin ranking loss in Pytorch)."
   ]
  },
  {
   "cell_type": "markdown",
   "id": "13ac838a",
   "metadata": {},
   "source": [
    "Per svolgere questo esercizio si è studiato e approfondito il tutorial presente sul sito di Hugging Face"
   ]
  },
  {
   "cell_type": "markdown",
   "id": "5fc2d26f-bdff-43a9-b915-4d590db9bee3",
   "metadata": {},
   "source": [
    "### Dataset"
   ]
  },
  {
   "cell_type": "markdown",
   "id": "05533f3d",
   "metadata": {},
   "source": [
    "Per prima cosa, scarichiamo il dataset"
   ]
  },
  {
   "cell_type": "code",
   "execution_count": 2,
   "id": "e13c1a81",
   "metadata": {
    "collapsed": false,
    "jupyter": {
     "outputs_hidden": false
    }
   },
   "outputs": [
    {
     "name": "stderr",
     "output_type": "stream",
     "text": [
      "Found cached dataset cosmos_qa (C:/Users/Sofy/.cache/huggingface/datasets/cosmos_qa/regular/0.1.0/3e18538cbfdb2c04189b16642715f0f6da3e97ed5df0aadcec3641245b2cf157)\n"
     ]
    },
    {
     "data": {
      "application/vnd.jupyter.widget-view+json": {
       "model_id": "6f4404960405452bbe90c6ba357bb9ac",
       "version_major": 2,
       "version_minor": 0
      },
      "text/plain": [
       "  0%|          | 0/3 [00:00<?, ?it/s]"
      ]
     },
     "metadata": {},
     "output_type": "display_data"
    }
   ],
   "source": [
    "from datasets import load_dataset\n",
    "\n",
    "dataset = load_dataset(\"cosmos_qa\", \"regular\")"
   ]
  },
  {
   "cell_type": "markdown",
   "id": "2a10d1f2-fb37-4c46-98a3-f2eece6e66cf",
   "metadata": {},
   "source": [
    "E vediamo come è strutturato:"
   ]
  },
  {
   "cell_type": "code",
   "execution_count": 3,
   "id": "a3d2100c",
   "metadata": {
    "collapsed": false,
    "jupyter": {
     "outputs_hidden": false
    }
   },
   "outputs": [
    {
     "data": {
      "text/plain": [
       "{'id': '3Q9SPIIRWJKVQ8244310E8TUS6YWAC##34V1S5K3GTZMDUBNBIGY93FLDOB690##A1S1K7134S2VUC##Blog_1044056##q1_a1##3XU9MCX6VQQG7YPLCSAFDPQNH4GR20',\n",
       " 'context': \"Good Old War and person L : I saw both of these bands Wednesday night , and they both blew me away . seriously . Good Old War is acoustic and makes me smile . I really can not help but be happy when I listen to them ; I think it 's the fact that they seemed so happy themselves when they played .\",\n",
       " 'question': 'In the future , will this person go to see other bands play ?',\n",
       " 'answer0': 'None of the above choices .',\n",
       " 'answer1': 'This person likes music and likes to see the show , they will see other bands play .',\n",
       " 'answer2': 'This person only likes Good Old War and Person L , no other bands .',\n",
       " 'answer3': 'Other Bands is not on tour and this person can not see them .',\n",
       " 'label': 1}"
      ]
     },
     "execution_count": 3,
     "metadata": {},
     "output_type": "execute_result"
    }
   ],
   "source": [
    "dataset['train'][0]"
   ]
  },
  {
   "cell_type": "markdown",
   "id": "c0f0c386-b5b0-43eb-a93f-19166535ab38",
   "metadata": {},
   "source": [
    "Come si può osservare, ogni entry del dataset, presenta:\n",
    "- un **id**;\n",
    "- un **contesto** per la domanda;\n",
    "- la **domanda** a cui si dovrà rispondere;\n",
    "- quattro possibili **risposte**;\n",
    "- la **label** con indicato la risposta corretta.\n",
    "\n",
    "Per poter fare il fine-tuning di un modello già esistente è necessario svolgere prima una fase di preprocessing del dataset."
   ]
  },
  {
   "cell_type": "markdown",
   "id": "e23cb978",
   "metadata": {},
   "source": [
    "### Fase di preprocessing\n",
    "In questa fase di preprocessing, si vanno a creare i token del contesto unito alla domanda e alle quattro risposte possibili."
   ]
  },
  {
   "cell_type": "code",
   "execution_count": 4,
   "id": "de482bcc",
   "metadata": {
    "collapsed": false,
    "jupyter": {
     "outputs_hidden": false
    }
   },
   "outputs": [],
   "source": [
    "from transformers import DistilBertTokenizer\n",
    "\n",
    "ending_names = [\"answer0\", \"answer1\", \"answer2\", \"answer3\"]\n",
    "\n",
    "tokenizer = DistilBertTokenizer.from_pretrained('distilbert-base-uncased')\n",
    "\n",
    "def preprocess_function(examples):\n",
    "    first_sentences = [[context] * 4 for context in examples[\"context\"]]\n",
    "    question_headers = examples[\"question\"]\n",
    "    second_sentences = [\n",
    "        [f\"{header} {examples[end][i]}\" for end in ending_names] for i, header in enumerate(question_headers)\n",
    "    ]\n",
    "\n",
    "    first_sentences = sum(first_sentences, [])\n",
    "    second_sentences = sum(second_sentences, [])\n",
    "\n",
    "    tokenized_examples = tokenizer(first_sentences, second_sentences, truncation=True)\n",
    "    return {k: [v[i : i + 4] for i in range(0, len(v), 4)] for k, v in tokenized_examples.items()}"
   ]
  },
  {
   "cell_type": "markdown",
   "id": "6848ec81-a25e-41a0-a765-014e677f3c44",
   "metadata": {},
   "source": [
    "Per eseguire il preprocessing sull'intero dataset, si una la funzione map:"
   ]
  },
  {
   "cell_type": "code",
   "execution_count": 5,
   "id": "a10f4989",
   "metadata": {
    "collapsed": false,
    "jupyter": {
     "outputs_hidden": false
    }
   },
   "outputs": [
    {
     "name": "stderr",
     "output_type": "stream",
     "text": [
      "Loading cached processed dataset at C:\\Users\\Sofy\\.cache\\huggingface\\datasets\\cosmos_qa\\regular\\0.1.0\\3e18538cbfdb2c04189b16642715f0f6da3e97ed5df0aadcec3641245b2cf157\\cache-4fe95802ad28fd49.arrow\n",
      "Loading cached processed dataset at C:\\Users\\Sofy\\.cache\\huggingface\\datasets\\cosmos_qa\\regular\\0.1.0\\3e18538cbfdb2c04189b16642715f0f6da3e97ed5df0aadcec3641245b2cf157\\cache-9debe1a1399a85e8.arrow\n",
      "Loading cached processed dataset at C:\\Users\\Sofy\\.cache\\huggingface\\datasets\\cosmos_qa\\regular\\0.1.0\\3e18538cbfdb2c04189b16642715f0f6da3e97ed5df0aadcec3641245b2cf157\\cache-e6f2aeaf7bcecc5a.arrow\n"
     ]
    }
   ],
   "source": [
    "tokenized_dataset = dataset.map(preprocess_function, batched=True)"
   ]
  },
  {
   "cell_type": "code",
   "execution_count": 6,
   "id": "7b2507dd",
   "metadata": {
    "collapsed": false,
    "jupyter": {
     "outputs_hidden": false
    }
   },
   "outputs": [
    {
     "data": {
      "text/plain": [
       "Dataset({\n",
       "    features: ['id', 'context', 'question', 'answer0', 'answer1', 'answer2', 'answer3', 'label', 'input_ids', 'attention_mask'],\n",
       "    num_rows: 25262\n",
       "})"
      ]
     },
     "execution_count": 6,
     "metadata": {},
     "output_type": "execute_result"
    }
   ],
   "source": [
    "tokenized_dataset['train']"
   ]
  },
  {
   "cell_type": "markdown",
   "id": "9d972a35-1ea9-470b-95c3-4aaa7a75e876",
   "metadata": {},
   "source": [
    "Come si può vedere, il dataset risultante ha gli stessi campi del precedente dataset ma ha adesso anche due campi aggiuntivi:\n",
    "- il campo **inputs_ids** che contiene i token di context + question + answer;\n",
    "- il campo **attention_mask** che serve a indicare su quali token di *input_ids* porre l'attenzione.\n",
    "\n",
    "\n",
    "Per generare i batch per il fine tuning, si deve utilizzare un **Data Collator**: cioè uno strumento che inserisce il padding a ogni elemento del dataset per fare in modo che tutti gli elementi del batch abbiano la stessa grandezza."
   ]
  },
  {
   "cell_type": "code",
   "execution_count": 7,
   "id": "727b4f25",
   "metadata": {
    "collapsed": false,
    "jupyter": {
     "outputs_hidden": false
    }
   },
   "outputs": [],
   "source": [
    "from dataclasses import dataclass\n",
    "from transformers.tokenization_utils_base import PreTrainedTokenizerBase, PaddingStrategy\n",
    "from typing import Optional, Union\n",
    "import torch\n",
    "\n",
    "\n",
    "@dataclass\n",
    "class DataCollatorForMultipleChoice:\n",
    "    \"\"\"\n",
    "    Data collator that will dynamically pad the inputs for multiple choice received.\n",
    "    \"\"\"\n",
    "\n",
    "    tokenizer: PreTrainedTokenizerBase\n",
    "    padding: Union[bool, str, PaddingStrategy] = True\n",
    "    max_length: Optional[int] = None\n",
    "    pad_to_multiple_of: Optional[int] = None\n",
    "\n",
    "    def __call__(self, features):\n",
    "        label_name = \"label\" if \"label\" in features[0].keys() else \"labels\"\n",
    "        labels = [feature.pop(label_name) for feature in features] if label_name in features[0].keys() else None\n",
    "        batch_size = len(features)\n",
    "        num_choices = len(features[0][\"input_ids\"])\n",
    "        flattened_features = [\n",
    "            [{k: v[i] for k, v in feature.items()} for i in range(num_choices)] for feature in features\n",
    "        ]\n",
    "        flattened_features = sum(flattened_features, [])\n",
    "\n",
    "        batch = self.tokenizer.pad(\n",
    "            flattened_features,\n",
    "            padding=self.padding,\n",
    "            max_length=self.max_length,\n",
    "            pad_to_multiple_of=self.pad_to_multiple_of,\n",
    "            return_tensors=\"pt\",\n",
    "        )\n",
    "\n",
    "        batch = {k: v.view(batch_size, num_choices, -1) for k, v in batch.items()}\n",
    "        if labels is not None:\n",
    "            batch[\"labels\"] = torch.tensor(labels, dtype=torch.int64)\n",
    "        return batch"
   ]
  },
  {
   "cell_type": "markdown",
   "id": "528958a2-49dd-456e-8696-ebc55f952575",
   "metadata": {},
   "source": [
    "### Accuracy Function"
   ]
  },
  {
   "cell_type": "markdown",
   "id": "826aee07-0dd3-4637-bde2-7f4405a908eb",
   "metadata": {},
   "source": [
    "Come metrica, ho deciso di calcolare l'accuracy."
   ]
  },
  {
   "cell_type": "code",
   "execution_count": 8,
   "id": "099ea0d9",
   "metadata": {},
   "outputs": [],
   "source": [
    "from sklearn.metrics import accuracy_score\n",
    "import numpy as np\n",
    "\n",
    "# Funzione per calcolare l'accuracy\n",
    "def accuracy(eval_pred):\n",
    "    y_pred, y_true = eval_pred\n",
    "    y_pred = np.argmax(y_pred, axis=1)\n",
    "    return {'accuracy': accuracy_score(y_true, y_pred)}"
   ]
  },
  {
   "cell_type": "markdown",
   "id": "f5c3cb74-9743-412b-9ba7-d49615c38dbb",
   "metadata": {},
   "source": [
    "### Fine tuning"
   ]
  },
  {
   "cell_type": "markdown",
   "id": "71f59f6a-56f2-4a10-abf6-113981abe5ee",
   "metadata": {},
   "source": [
    "Usiamo adesso i Trainer di pytorch per fare il fine-tuning del modello."
   ]
  },
  {
   "cell_type": "code",
   "execution_count": 9,
   "id": "c77315f0-c6ab-4c82-a594-01b71029ebe2",
   "metadata": {},
   "outputs": [
    {
     "name": "stderr",
     "output_type": "stream",
     "text": [
      "Some weights of the model checkpoint at bert-base-uncased were not used when initializing BertForMultipleChoice: ['cls.predictions.bias', 'cls.predictions.transform.LayerNorm.bias', 'cls.seq_relationship.bias', 'cls.predictions.transform.dense.weight', 'cls.seq_relationship.weight', 'cls.predictions.decoder.weight', 'cls.predictions.transform.LayerNorm.weight', 'cls.predictions.transform.dense.bias']\n",
      "- This IS expected if you are initializing BertForMultipleChoice from the checkpoint of a model trained on another task or with another architecture (e.g. initializing a BertForSequenceClassification model from a BertForPreTraining model).\n",
      "- This IS NOT expected if you are initializing BertForMultipleChoice from the checkpoint of a model that you expect to be exactly identical (initializing a BertForSequenceClassification model from a BertForSequenceClassification model).\n",
      "Some weights of BertForMultipleChoice were not initialized from the model checkpoint at bert-base-uncased and are newly initialized: ['classifier.bias', 'classifier.weight']\n",
      "You should probably TRAIN this model on a down-stream task to be able to use it for predictions and inference.\n"
     ]
    }
   ],
   "source": [
    "from transformers import AutoModelForMultipleChoice, TrainingArguments, Trainer\n",
    "\n",
    "model = AutoModelForMultipleChoice.from_pretrained(\"bert-base-uncased\")"
   ]
  },
  {
   "cell_type": "code",
   "execution_count": 11,
   "id": "b210ebf7-7bdf-41e7-99ee-1206d6ee352e",
   "metadata": {},
   "outputs": [],
   "source": [
    "training_args = TrainingArguments(\n",
    "    output_dir=\"my_model\",\n",
    "    evaluation_strategy=\"epoch\",\n",
    "    save_strategy=\"epoch\",\n",
    "    load_best_model_at_end=True,\n",
    "    learning_rate=5e-5,\n",
    "    per_device_train_batch_size=8,\n",
    "    per_device_eval_batch_size=8,\n",
    "    num_train_epochs=3,\n",
    "    weight_decay=0.01,\n",
    "    push_to_hub=False,\n",
    ")\n",
    "\n",
    "trainer = Trainer(\n",
    "    model=model,\n",
    "    args=training_args,\n",
    "    train_dataset=tokenized_dataset[\"train\"],\n",
    "    eval_dataset=tokenized_dataset[\"validation\"],\n",
    "    tokenizer=tokenizer,\n",
    "    data_collator=DataCollatorForMultipleChoice(tokenizer=tokenizer),\n",
    "    compute_metrics=accuracy,\n",
    ")"
   ]
  },
  {
   "cell_type": "code",
   "execution_count": 12,
   "id": "4a0eb0d4-55a4-4e4b-89e1-2a1927290a5a",
   "metadata": {},
   "outputs": [
    {
     "name": "stderr",
     "output_type": "stream",
     "text": [
      "C:\\Users\\Sofy\\miniconda3\\envs\\DLA\\lib\\site-packages\\transformers\\optimization.py:391: FutureWarning: This implementation of AdamW is deprecated and will be removed in a future version. Use the PyTorch implementation torch.optim.AdamW instead, or set `no_deprecation_warning=True` to disable this warning\n",
      "  warnings.warn(\n"
     ]
    },
    {
     "data": {
      "text/html": [
       "\n",
       "    <div>\n",
       "      \n",
       "      <progress value='9474' max='9474' style='width:300px; height:20px; vertical-align: middle;'></progress>\n",
       "      [9474/9474 7:25:22, Epoch 3/3]\n",
       "    </div>\n",
       "    <table border=\"1\" class=\"dataframe\">\n",
       "  <thead>\n",
       " <tr style=\"text-align: left;\">\n",
       "      <th>Epoch</th>\n",
       "      <th>Training Loss</th>\n",
       "      <th>Validation Loss</th>\n",
       "      <th>Accuracy</th>\n",
       "    </tr>\n",
       "  </thead>\n",
       "  <tbody>\n",
       "    <tr>\n",
       "      <td>1</td>\n",
       "      <td>1.056300</td>\n",
       "      <td>1.005294</td>\n",
       "      <td>0.596315</td>\n",
       "    </tr>\n",
       "    <tr>\n",
       "      <td>2</td>\n",
       "      <td>0.606500</td>\n",
       "      <td>1.358598</td>\n",
       "      <td>0.561809</td>\n",
       "    </tr>\n",
       "    <tr>\n",
       "      <td>3</td>\n",
       "      <td>0.218000</td>\n",
       "      <td>2.640128</td>\n",
       "      <td>0.558794</td>\n",
       "    </tr>\n",
       "  </tbody>\n",
       "</table><p>"
      ],
      "text/plain": [
       "<IPython.core.display.HTML object>"
      ]
     },
     "metadata": {},
     "output_type": "display_data"
    },
    {
     "data": {
      "text/plain": [
       "TrainOutput(global_step=9474, training_loss=0.6601521300947412, metrics={'train_runtime': 26724.5877, 'train_samples_per_second': 2.836, 'train_steps_per_second': 0.355, 'total_flos': 2.170273020618485e+16, 'train_loss': 0.6601521300947412, 'epoch': 3.0})"
      ]
     },
     "execution_count": 12,
     "metadata": {},
     "output_type": "execute_result"
    }
   ],
   "source": [
    "trainer.train()"
   ]
  },
  {
   "cell_type": "markdown",
   "id": "25566958-fe8d-47fc-ab9d-1c1db8af83f6",
   "metadata": {},
   "source": [
    "### Testing"
   ]
  },
  {
   "cell_type": "markdown",
   "id": "f541456b-3c38-4165-8d53-dd2e81d2410d",
   "metadata": {},
   "source": [
    "Il dataset scelto non presenta delle label valide all'interno del test_set. Di conseguenza, non possiamo calcolare l'accuracy sul test_set.\n",
    "\n",
    "Nota: ho guardato diversi dataset prima di scegliere questo e nessuno di loro aveva le label per tutti e tre i set (train, validation e test)."
   ]
  },
  {
   "cell_type": "code",
   "execution_count": 10,
   "id": "67e72ca3-faaa-4059-8599-9ff877b2cbd9",
   "metadata": {
    "tags": []
   },
   "outputs": [],
   "source": [
    "model = AutoModelForMultipleChoice.from_pretrained('my_model/checkpoint-9474')"
   ]
  },
  {
   "cell_type": "markdown",
   "id": "37551312-7871-4333-b165-7637168879b0",
   "metadata": {},
   "source": [
    "La funzione predict() del trainer di hugging face funziona anche senza che vengano passate le label. Ho quindi eliminato le label dal test_set prima di continuare:"
   ]
  },
  {
   "cell_type": "code",
   "execution_count": 12,
   "id": "b798e95c-5d87-4ccc-8fe6-fb5c8cbd9cf9",
   "metadata": {},
   "outputs": [
    {
     "data": {
      "text/plain": [
       "Dataset({\n",
       "    features: ['id', 'context', 'question', 'answer0', 'answer1', 'answer2', 'answer3', 'input_ids', 'attention_mask'],\n",
       "    num_rows: 6963\n",
       "})"
      ]
     },
     "execution_count": 12,
     "metadata": {},
     "output_type": "execute_result"
    }
   ],
   "source": [
    "test_data = tokenized_dataset['test']\n",
    "test_data = test_data.remove_columns(\"label\")\n",
    "test_data"
   ]
  },
  {
   "cell_type": "code",
   "execution_count": 13,
   "id": "cc46f9f0-c008-4738-ae14-491a9e8654ae",
   "metadata": {},
   "outputs": [],
   "source": [
    "trainer = Trainer(\n",
    "    model=model,\n",
    "    tokenizer=tokenizer,\n",
    "    data_collator=DataCollatorForMultipleChoice(tokenizer=tokenizer),\n",
    ")"
   ]
  },
  {
   "cell_type": "code",
   "execution_count": 15,
   "id": "0008c33e-e305-4e5d-a6f6-7b53c9873535",
   "metadata": {},
   "outputs": [
    {
     "data": {
      "text/html": [],
      "text/plain": [
       "<IPython.core.display.HTML object>"
      ]
     },
     "metadata": {},
     "output_type": "display_data"
    }
   ],
   "source": [
    "model.eval()\n",
    "test_result = trainer.predict(test_data)"
   ]
  },
  {
   "cell_type": "code",
   "execution_count": 16,
   "id": "22e0f1a2-8319-41eb-b262-340f3a921b65",
   "metadata": {},
   "outputs": [
    {
     "data": {
      "text/plain": [
       "PredictionOutput(predictions=array([[-11.18111  ,  -6.029766 , -12.528319 , -12.3311825],\n",
       "       [ -8.765934 ,  -7.91253  ,   8.332372 ,   2.9878469],\n",
       "       [ -0.3738349,   3.801273 ,  11.359877 ,   3.3177714],\n",
       "       ...,\n",
       "       [ -6.252652 ,  -6.411227 ,  -7.7708454,   5.3823843],\n",
       "       [-12.507664 , -11.57149  ,  -6.6277285,  11.902547 ],\n",
       "       [  1.8697493,  -4.919432 ,   6.771773 ,  12.320783 ]],\n",
       "      dtype=float32), label_ids=None, metrics={'test_runtime': 78.7702, 'test_samples_per_second': 88.396, 'test_steps_per_second': 11.057})"
      ]
     },
     "execution_count": 16,
     "metadata": {},
     "output_type": "execute_result"
    }
   ],
   "source": [
    "test_result"
   ]
  },
  {
   "cell_type": "code",
   "execution_count": 26,
   "id": "27cad5ee-9163-4bc6-a5dd-92acbf44e2aa",
   "metadata": {},
   "outputs": [],
   "source": [
    "predictions = test_result.predictions.argmax(axis=1)"
   ]
  },
  {
   "cell_type": "markdown",
   "id": "9cac18a5-06a7-4bd3-af99-05b7a629c083",
   "metadata": {},
   "source": [
    "Abbiamo ottenuto così la risposta predetta dal modello per ogni domanda nel test_set.\n",
    "\n",
    "Se ad esempio osserviamo la prima:"
   ]
  },
  {
   "cell_type": "code",
   "execution_count": 25,
   "id": "f822c85b-52b0-4a66-b29e-872a6ca574a1",
   "metadata": {},
   "outputs": [
    {
     "name": "stdout",
     "output_type": "stream",
     "text": [
      "context: HGH and steroid use is rampant in track , and , just like in most American professional sports , any incredible individual achievement is questioned immediately , which is a sad state of affairs . The fact that we , as a human population have to assume that someone is using steroids because of an outstanding feat is horrible . What about the people who actually train their hearts out to achieve the same success that the users are trying to achieve ? It is n't fair to the men and women that dedicate their lives to achieving glory the right way , hard work and determination .\n",
      "question: Why is HGH and steroid use rampant in track ?\n",
      "answer0: Because we have to assume that someone is using steroids because of an outstanding feat .\n",
      "answer1: None of the above choices .\n",
      "answer2: Because any incredible individual achievement is questioned immediately .\n",
      "answer3: Because it 's an American professional sport .\n"
     ]
    }
   ],
   "source": [
    "print(f\"context: {test_data[0]['context']}\")\n",
    "print(f\"question: {test_data[0]['question']}\")\n",
    "print(f\"answer0: {test_data[0]['answer0']}\")\n",
    "print(f\"answer1: {test_data[0]['answer1']}\")\n",
    "print(f\"answer2: {test_data[0]['answer2']}\")\n",
    "print(f\"answer3: {test_data[0]['answer3']}\")"
   ]
  },
  {
   "cell_type": "markdown",
   "id": "76f53296-ac37-4ef6-89f4-7a3c2491367a",
   "metadata": {},
   "source": [
    "Abbiamo che la risposta predetta è:"
   ]
  },
  {
   "cell_type": "code",
   "execution_count": 27,
   "id": "bd2098cd-7ab9-4814-a5ce-e1036473f6a5",
   "metadata": {},
   "outputs": [
    {
     "name": "stdout",
     "output_type": "stream",
     "text": [
      "predicted answer: answer number 1\n"
     ]
    }
   ],
   "source": [
    "print(f\"predicted answer: answer number {predictions[0]}\")"
   ]
  },
  {
   "cell_type": "markdown",
   "id": "122b88f1-19a7-4569-bcb2-0f5878f852e3",
   "metadata": {},
   "source": [
    "Cioé:"
   ]
  },
  {
   "cell_type": "code",
   "execution_count": 28,
   "id": "77a5e816-2a6d-439e-8bc2-29dc92a3b1dd",
   "metadata": {},
   "outputs": [
    {
     "data": {
      "text/plain": [
       "'None of the above choices .'"
      ]
     },
     "execution_count": 28,
     "metadata": {},
     "output_type": "execute_result"
    }
   ],
   "source": [
    "test_data[0]['answer1']"
   ]
  }
 ],
 "metadata": {
  "kernelspec": {
   "display_name": "Python 3 (ipykernel)",
   "language": "python",
   "name": "python3"
  },
  "language_info": {
   "codemirror_mode": {
    "name": "ipython",
    "version": 3
   },
   "file_extension": ".py",
   "mimetype": "text/x-python",
   "name": "python",
   "nbconvert_exporter": "python",
   "pygments_lexer": "ipython3",
   "version": "3.10.9"
  }
 },
 "nbformat": 4,
 "nbformat_minor": 5
}
